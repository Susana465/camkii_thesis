{
 "cells": [
  {
   "cell_type": "code",
   "execution_count": 2,
   "metadata": {},
   "outputs": [
    {
     "data": {
      "application/vnd.jupyter.widget-view+json": {
       "model_id": "a388726d1b714301b02c61c2bf1e586c",
       "version_major": 2,
       "version_minor": 0
      },
      "text/plain": [
       "VBox(children=(IntText(value=3, description='Rows:'), IntText(value=2, description='Columns:'), Button(descrip…"
      ]
     },
     "metadata": {},
     "output_type": "display_data"
    }
   ],
   "source": [
    "import ipywidgets as widgets\n",
    "from IPython.display import display\n",
    "import pandas as pd\n",
    "\n",
    "# Create input widgets for rows and columns\n",
    "row_input = widgets.IntText(value=3, description='Rows:', disabled=False)\n",
    "col_input = widgets.IntText(value=2, description='Columns:', disabled=False)\n",
    "generate_button = widgets.Button(description=\"Generate Table\")\n",
    "\n",
    "def generate_table(rows, cols):\n",
    "    table = []\n",
    "    for i in range(rows):\n",
    "        row = []\n",
    "        for j in range(cols):\n",
    "            cell = widgets.Text(value=\"\", description=f\"R{i+1}C{j+1}\")\n",
    "            row.append(cell)\n",
    "        table.append(widgets.HBox(row))\n",
    "    return widgets.VBox(table)\n",
    "\n",
    "# Function to update table\n",
    "def update_table(button):\n",
    "    rows = row_input.value\n",
    "    cols = col_input.value\n",
    "    table_box.children = [generate_table(rows, cols)]\n",
    "\n",
    "# Button click event\n",
    "generate_button.on_click(update_table)\n",
    "\n",
    "# Display the input fields and button\n",
    "table_box = widgets.VBox()\n",
    "display(widgets.VBox([row_input, col_input, generate_button, table_box]))\n"
   ]
  },
  {
   "cell_type": "code",
   "execution_count": 3,
   "metadata": {},
   "outputs": [
    {
     "data": {
      "application/vnd.jupyter.widget-view+json": {
       "model_id": "2d2d922bdd474273b76bf3a71d635539",
       "version_major": 2,
       "version_minor": 0
      },
      "text/plain": [
       "VBox(children=(IntText(value=3, description='Rows:'), IntText(value=2, description='Columns:'), Button(descrip…"
      ]
     },
     "metadata": {},
     "output_type": "display_data"
    }
   ],
   "source": [
    "import ipywidgets as widgets\n",
    "from IPython.display import display, clear_output\n",
    "import pandas as pd\n",
    "\n",
    "# Create input widgets for rows and columns\n",
    "row_input = widgets.IntText(value=3, description='Rows:', disabled=False)\n",
    "col_input = widgets.IntText(value=2, description='Columns:', disabled=False)\n",
    "generate_button = widgets.Button(description=\"Generate Table\")\n",
    "\n",
    "# Function to generate an interactive table\n",
    "def generate_table(rows, cols):\n",
    "    table = []\n",
    "    for i in range(rows):\n",
    "        row = []\n",
    "        for j in range(cols):\n",
    "            cell = widgets.Text(value=\"\", description=f\"R{i+1}C{j+1}\")\n",
    "            row.append(cell)\n",
    "        table.append(widgets.HBox(row))\n",
    "    return widgets.VBox(table)\n",
    "\n",
    "# Function to update table and display DataFrame\n",
    "def update_table(button):\n",
    "    rows = row_input.value\n",
    "    cols = col_input.value\n",
    "    table = generate_table(rows, cols)\n",
    "    \n",
    "    def display_dataframe(change):\n",
    "        data = []\n",
    "        for row in table.children:\n",
    "            data.append([cell.value for cell in row.children])\n",
    "        df = pd.DataFrame(data)\n",
    "        with output:\n",
    "            clear_output(wait=True)\n",
    "            display(df)\n",
    "    \n",
    "    # Add listeners to update DataFrame on cell value change\n",
    "    for row in table.children:\n",
    "        for cell in row.children:\n",
    "            cell.observe(display_dataframe, names='value')\n",
    "    \n",
    "    # Display the table\n",
    "    with output:\n",
    "        clear_output(wait=True)\n",
    "        display(table)\n",
    "    \n",
    "    # Initial display of the DataFrame\n",
    "    display_dataframe(None)\n",
    "\n",
    "# Output widget to display the DataFrame\n",
    "output = widgets.Output()\n",
    "\n",
    "# Button click event\n",
    "generate_button.on_click(update_table)\n",
    "\n",
    "# Display the input fields, button, and the initial empty output\n",
    "display(widgets.VBox([row_input, col_input, generate_button, output]))\n"
   ]
  },
  {
   "cell_type": "code",
   "execution_count": 6,
   "metadata": {},
   "outputs": [
    {
     "data": {
      "application/vnd.jupyter.widget-view+json": {
       "model_id": "b6a8e70230b848958d87e53f842868a5",
       "version_major": 2,
       "version_minor": 0
      },
      "text/plain": [
       "VBox(children=(IntText(value=3, description='Rows:'), IntText(value=2, description='Columns:'), Button(descrip…"
      ]
     },
     "metadata": {},
     "output_type": "display_data"
    }
   ],
   "source": [
    "import ipywidgets as widgets\n",
    "from IPython.display import display, clear_output\n",
    "import pandas as pd\n",
    "\n",
    "# Create input widgets for rows and columns\n",
    "row_input = widgets.IntText(value=3, description='Rows:', disabled=False)\n",
    "col_input = widgets.IntText(value=2, description='Columns:', disabled=False)\n",
    "generate_button = widgets.Button(description=\"Generate Table\")\n",
    "display_button = widgets.Button(description=\"Display DataFrame\")\n",
    "\n",
    "# Output widget to display the table and DataFrame\n",
    "table_output = widgets.Output()\n",
    "dataframe_output = widgets.Output()\n",
    "\n",
    "# Variable to store the table\n",
    "generated_table = None\n",
    "\n",
    "# Function to generate an interactive table\n",
    "def generate_table(rows, cols):\n",
    "    table = []\n",
    "    for i in range(rows):\n",
    "        row = []\n",
    "        for j in range(cols):\n",
    "            cell = widgets.Text(value=\"\", description=f\"R{i+1}C{j+1}\")\n",
    "            row.append(cell)\n",
    "        table.append(widgets.HBox(row))\n",
    "    return widgets.VBox(table)\n",
    "\n",
    "# Function to update the table display\n",
    "def update_table(button):\n",
    "    global generated_table\n",
    "    rows = row_input.value\n",
    "    cols = col_input.value\n",
    "    generated_table = generate_table(rows, cols)\n",
    "    \n",
    "    with table_output:\n",
    "        clear_output(wait=True)\n",
    "        display(generated_table)\n",
    "\n",
    "# Function to display the DataFrame\n",
    "def display_dataframe(button):\n",
    "    if generated_table is not None:\n",
    "        data = []\n",
    "        for row in generated_table.children:\n",
    "            data.append([cell.value for cell in row.children])\n",
    "        df = pd.DataFrame(data)\n",
    "        with dataframe_output:\n",
    "            clear_output(wait=True)\n",
    "            display(df)\n",
    "    else:\n",
    "        with dataframe_output:\n",
    "            clear_output(wait=True)\n",
    "            display(\"Please generate the table first by clicking 'Generate Table'.\")\n",
    "\n",
    "# Button click events\n",
    "generate_button.on_click(update_table)\n",
    "display_button.on_click(display_dataframe)\n",
    "\n",
    "# Display the input fields, buttons, and the outputs\n",
    "display(widgets.VBox([row_input, col_input, generate_button, table_output, display_button, dataframe_output]))\n"
   ]
  }
 ],
 "metadata": {
  "kernelspec": {
   "display_name": "Python 3",
   "language": "python",
   "name": "python3"
  },
  "language_info": {
   "codemirror_mode": {
    "name": "ipython",
    "version": 3
   },
   "file_extension": ".py",
   "mimetype": "text/x-python",
   "name": "python",
   "nbconvert_exporter": "python",
   "pygments_lexer": "ipython3",
   "version": "3.9.16"
  }
 },
 "nbformat": 4,
 "nbformat_minor": 2
}
